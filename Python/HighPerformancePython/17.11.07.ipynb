{
 "cells": [
  {
   "cell_type": "code",
   "execution_count": 5,
   "metadata": {
    "collapsed": true
   },
   "outputs": [],
   "source": [
    "import time\n",
    "\n",
    "x1, x2, y1, y2 = -1.8, 1.8, -1.8, 1.8\n",
    "c_real, c_imag = -0.62772, -.42193"
   ]
  },
  {
   "cell_type": "code",
   "execution_count": 1,
   "metadata": {
    "collapsed": true
   },
   "outputs": [],
   "source": [
    "def calculate_z_serial_purepython(maxiter, zs, cs):\n",
    "    output = [0] * len(zs)\n",
    "    for i in range(len(zs)):\n",
    "        n = 0\n",
    "        z = zs[i]\n",
    "        c = cs[i]\n",
    "        while abs(z) < 2 and n < maxiter:\n",
    "            z = z*z + c\n",
    "            n += 1\n",
    "        output[i] = n\n",
    "    return output"
   ]
  },
  {
   "cell_type": "code",
   "execution_count": 2,
   "metadata": {
    "collapsed": true
   },
   "outputs": [],
   "source": [
    "def calc_pure_python(desired_width, max_iterations):\n",
    "    x_step = (float(x2 - x1) / float(desired_width))\n",
    "    y_step = (float(y1 - y2) / float(desired_width))\n",
    "    \n",
    "    x = []\n",
    "    y = []\n",
    "    ycoord = y2\n",
    "    while ycoord > y1:\n",
    "        y.append(ycoord)\n",
    "        ycoord += y_step\n",
    "    xcoord = x1\n",
    "    while xcoord < x2:\n",
    "        x.append(xcoord)\n",
    "        xcoord += x_step\n",
    "        \n",
    "    zs = []\n",
    "    cs = []\n",
    "    for ycoord in y:\n",
    "        for xcoord in x:\n",
    "            zs.append(complex(xcoord, ycoord))\n",
    "            cs.append(complex(c_real, c_imag))\n",
    "            \n",
    "    print(\"Length of x:\", len(x))\n",
    "    print(\"Total elements:\", len(zs))\n",
    "    start_time = time.time()\n",
    "    output = calculate_z_serial_purepython(max_iterations, zs, cs)\n",
    "    end_time = time.time()\n",
    "    secs = end_time - start_time\n",
    "    print(calculate_z_serial_purepython.__name__ + \"took\", secs, \"seconds\")\n",
    "    \n",
    "    assert sum(output) == 33219980"
   ]
  },
  {
   "cell_type": "code",
   "execution_count": 6,
   "metadata": {},
   "outputs": [
    {
     "name": "stdout",
     "output_type": "stream",
     "text": [
      "Length of x: 1000\n",
      "Total elements: 1000000\n",
      "calculate_z_serial_purepythontook 8.466514110565186 seconds\n"
     ]
    }
   ],
   "source": [
    "calc_pure_python(desired_width=1000, max_iterations=300)"
   ]
  },
  {
   "cell_type": "code",
   "execution_count": 7,
   "metadata": {
    "collapsed": true
   },
   "outputs": [],
   "source": [
    "import pstats"
   ]
  },
  {
   "cell_type": "code",
   "execution_count": 8,
   "metadata": {
    "collapsed": true
   },
   "outputs": [],
   "source": [
    "p = pstats.Stats(\"profile.stats\")"
   ]
  },
  {
   "cell_type": "code",
   "execution_count": 9,
   "metadata": {},
   "outputs": [
    {
     "data": {
      "text/plain": [
       "<pstats.Stats at 0x1109e1160>"
      ]
     },
     "execution_count": 9,
     "metadata": {},
     "output_type": "execute_result"
    }
   ],
   "source": [
    "p.sort_stats(\"cumulative\")"
   ]
  },
  {
   "cell_type": "code",
   "execution_count": 10,
   "metadata": {},
   "outputs": [
    {
     "name": "stdout",
     "output_type": "stream",
     "text": [
      "Tue Nov  7 21:22:38 2017    profile.stats\n",
      "\n",
      "         36221995 function calls in 13.374 seconds\n",
      "\n",
      "   Ordered by: cumulative time\n",
      "\n",
      "   ncalls  tottime  percall  cumtime  percall filename:lineno(function)\n",
      "        1    0.000    0.000   13.374   13.374 {built-in method builtins.exec}\n",
      "        1    0.028    0.028   13.374   13.374 julia1_nopil.py:1(<module>)\n",
      "        1    0.746    0.746   13.346   13.346 julia1_nopil.py:18(calc_pure_python)\n",
      "        1    9.735    9.735   12.450   12.450 julia1_nopil.py:6(calculate_z_serial_purepython)\n",
      " 34219980    2.715    0.000    2.715    0.000 {built-in method builtins.abs}\n",
      "  2002000    0.142    0.000    0.142    0.000 {method 'append' of 'list' objects}\n",
      "        1    0.007    0.007    0.007    0.007 {built-in method builtins.sum}\n",
      "        3    0.000    0.000    0.000    0.000 {built-in method builtins.print}\n",
      "        4    0.000    0.000    0.000    0.000 {built-in method builtins.len}\n",
      "        2    0.000    0.000    0.000    0.000 {built-in method time.time}\n",
      "        1    0.000    0.000    0.000    0.000 {method 'disable' of '_lsprof.Profiler' objects}\n",
      "\n",
      "\n"
     ]
    },
    {
     "data": {
      "text/plain": [
       "<pstats.Stats at 0x1109e1160>"
      ]
     },
     "execution_count": 10,
     "metadata": {},
     "output_type": "execute_result"
    }
   ],
   "source": [
    "p.print_stats()"
   ]
  },
  {
   "cell_type": "code",
   "execution_count": 11,
   "metadata": {},
   "outputs": [
    {
     "name": "stdout",
     "output_type": "stream",
     "text": [
      "   Ordered by: cumulative time\n",
      "\n",
      "Function                                          was called by...\n",
      "                                                      ncalls  tottime  cumtime\n",
      "{built-in method builtins.exec}                   <- \n",
      "julia1_nopil.py:1(<module>)                       <-       1    0.028   13.374  {built-in method builtins.exec}\n",
      "julia1_nopil.py:18(calc_pure_python)              <-       1    0.746   13.346  julia1_nopil.py:1(<module>)\n",
      "julia1_nopil.py:6(calculate_z_serial_purepython)  <-       1    9.735   12.450  julia1_nopil.py:18(calc_pure_python)\n",
      "{built-in method builtins.abs}                    <- 34219980    2.715    2.715  julia1_nopil.py:6(calculate_z_serial_purepython)\n",
      "{method 'append' of 'list' objects}               <- 2002000    0.142    0.142  julia1_nopil.py:18(calc_pure_python)\n",
      "{built-in method builtins.sum}                    <-       1    0.007    0.007  julia1_nopil.py:18(calc_pure_python)\n",
      "{built-in method builtins.print}                  <-       3    0.000    0.000  julia1_nopil.py:18(calc_pure_python)\n",
      "{built-in method builtins.len}                    <-       2    0.000    0.000  julia1_nopil.py:6(calculate_z_serial_purepython)\n",
      "                                                           2    0.000    0.000  julia1_nopil.py:18(calc_pure_python)\n",
      "{built-in method time.time}                       <-       2    0.000    0.000  julia1_nopil.py:18(calc_pure_python)\n",
      "{method 'disable' of '_lsprof.Profiler' objects}  <- \n",
      "\n",
      "\n"
     ]
    },
    {
     "data": {
      "text/plain": [
       "<pstats.Stats at 0x1109e1160>"
      ]
     },
     "execution_count": 11,
     "metadata": {},
     "output_type": "execute_result"
    }
   ],
   "source": [
    "p.print_callers()"
   ]
  },
  {
   "cell_type": "code",
   "execution_count": 12,
   "metadata": {},
   "outputs": [
    {
     "name": "stdout",
     "output_type": "stream",
     "text": [
      "   Ordered by: cumulative time\n",
      "\n",
      "Function                                          called...\n",
      "                                                      ncalls  tottime  cumtime\n",
      "{built-in method builtins.exec}                   ->       1    0.028   13.374  julia1_nopil.py:1(<module>)\n",
      "julia1_nopil.py:1(<module>)                       ->       1    0.746   13.346  julia1_nopil.py:18(calc_pure_python)\n",
      "julia1_nopil.py:18(calc_pure_python)              ->       1    9.735   12.450  julia1_nopil.py:6(calculate_z_serial_purepython)\n",
      "                                                           2    0.000    0.000  {built-in method builtins.len}\n",
      "                                                           3    0.000    0.000  {built-in method builtins.print}\n",
      "                                                           1    0.007    0.007  {built-in method builtins.sum}\n",
      "                                                           2    0.000    0.000  {built-in method time.time}\n",
      "                                                     2002000    0.142    0.142  {method 'append' of 'list' objects}\n",
      "julia1_nopil.py:6(calculate_z_serial_purepython)  -> 34219980    2.715    2.715  {built-in method builtins.abs}\n",
      "                                                           2    0.000    0.000  {built-in method builtins.len}\n",
      "{built-in method builtins.abs}                    -> \n",
      "{method 'append' of 'list' objects}               -> \n",
      "{built-in method builtins.sum}                    -> \n",
      "{built-in method builtins.print}                  -> \n",
      "{built-in method builtins.len}                    -> \n",
      "{built-in method time.time}                       -> \n",
      "{method 'disable' of '_lsprof.Profiler' objects}  -> \n",
      "\n",
      "\n"
     ]
    },
    {
     "data": {
      "text/plain": [
       "<pstats.Stats at 0x1109e1160>"
      ]
     },
     "execution_count": 12,
     "metadata": {},
     "output_type": "execute_result"
    }
   ],
   "source": [
    "p.print_callees()"
   ]
  },
  {
   "cell_type": "code",
   "execution_count": null,
   "metadata": {
    "collapsed": true
   },
   "outputs": [],
   "source": []
  }
 ],
 "metadata": {
  "kernelspec": {
   "display_name": "Python 3",
   "language": "python",
   "name": "python3"
  },
  "language_info": {
   "codemirror_mode": {
    "name": "ipython",
    "version": 3
   },
   "file_extension": ".py",
   "mimetype": "text/x-python",
   "name": "python",
   "nbconvert_exporter": "python",
   "pygments_lexer": "ipython3",
   "version": "3.6.1"
  }
 },
 "nbformat": 4,
 "nbformat_minor": 2
}
